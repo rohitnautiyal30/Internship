{
 "cells": [
  {
   "cell_type": "markdown",
   "id": "dc1aeae5",
   "metadata": {},
   "source": [
    "Q11) Write a python program to find the factorial of a number."
   ]
  },
  {
   "cell_type": "code",
   "execution_count": null,
   "id": "ac154299",
   "metadata": {},
   "outputs": [],
   "source": [
    "num = int(input(\"Enter a number :\"))\n",
    "\n",
    "factorial = 1\n",
    "\n",
    "if (num<0):\n",
    "    print(\" Factorial of a negative number is not defined\")\n",
    "    \n",
    "elif (num==0):\n",
    "    print(\"0! = 1\")\n",
    "    \n",
    "else:\n",
    "    for i in range(1,num+1):\n",
    "        factorial = factorial*i\n",
    "    print(num,\"! =\",factorial)"
   ]
  },
  {
   "cell_type": "markdown",
   "id": "c8e7159d",
   "metadata": {},
   "source": [
    "Q12) Write a python program to find whether a number is prime or composite."
   ]
  },
  {
   "cell_type": "code",
   "execution_count": null,
   "id": "3adc9808",
   "metadata": {},
   "outputs": [],
   "source": [
    "num = int(input(\"Enter a number : \"))\n",
    "\n",
    "if num<=1:\n",
    "    print(\"It is neither a prime number nor a composite number\")\n",
    "    \n",
    "if (num>1):\n",
    "    for i in range(2,num):\n",
    "    \n",
    "        if num%i == 0:\n",
    "            print(\"It is not a prime number\")\n",
    "            break\n",
    "    \n",
    "    else :\n",
    "        print(\"It is a prime number\")\n",
    "        "
   ]
  },
  {
   "cell_type": "markdown",
   "id": "229dc2c7",
   "metadata": {},
   "source": [
    "Q13) Write a python program to check whether a given string is palindrome or not."
   ]
  },
  {
   "cell_type": "code",
   "execution_count": null,
   "id": "dbaf3e28",
   "metadata": {},
   "outputs": [],
   "source": [
    "a = input(\"Enter string : \")\n",
    "\n",
    "a = a.lower()\n",
    "\n",
    "b = a[-1::-1]\n",
    "\n",
    "if (a==b):\n",
    "    print(\"This string is a Palindrome\")\n",
    "    \n",
    "else :\n",
    "    print(\"This string is not a Palindrome\")"
   ]
  },
  {
   "cell_type": "markdown",
   "id": "49a9204e",
   "metadata": {},
   "source": [
    "Q14) Write a Python program to get the third side of right-angled triangle from two given sides."
   ]
  },
  {
   "cell_type": "code",
   "execution_count": null,
   "id": "d989657d",
   "metadata": {},
   "outputs": [],
   "source": [
    "import numpy as np\n",
    "\n",
    "a = int(input(\"Enter the value of perpendicular side :\"))\n",
    "\n",
    "b = int(input(\"Enter the value of base side :\"))\n",
    "\n",
    "c = np.sqrt((a**2)+(b**2))\n",
    "\n",
    "print(\"The hypotenuse of the given right angle triangle = \",c)"
   ]
  },
  {
   "cell_type": "markdown",
   "id": "ebf39e91",
   "metadata": {},
   "source": []
  },
  {
   "cell_type": "code",
   "execution_count": null,
   "id": "c557fec6",
   "metadata": {},
   "outputs": [],
   "source": []
  }
 ],
 "metadata": {
  "kernelspec": {
   "display_name": "Python 3 (ipykernel)",
   "language": "python",
   "name": "python3"
  },
  "language_info": {
   "codemirror_mode": {
    "name": "ipython",
    "version": 3
   },
   "file_extension": ".py",
   "mimetype": "text/x-python",
   "name": "python",
   "nbconvert_exporter": "python",
   "pygments_lexer": "ipython3",
   "version": "3.11.5"
  }
 },
 "nbformat": 4,
 "nbformat_minor": 5
}
