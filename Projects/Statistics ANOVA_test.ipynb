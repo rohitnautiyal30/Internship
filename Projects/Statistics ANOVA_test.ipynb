{
 "cells": [
  {
   "cell_type": "markdown",
   "id": "e7a27b5d",
   "metadata": {},
   "source": [
    "# ANOVA(ANalysis Of VAriance) Test\n",
    "\n",
    "###### Used to compare differences of means among more than 2 groups."
   ]
  },
  {
   "cell_type": "markdown",
   "id": "c63d6c4f",
   "metadata": {},
   "source": [
    "### F Value :-\n",
    "\n",
    "### F = sample means of between groups / sample means of within groups"
   ]
  },
  {
   "cell_type": "markdown",
   "id": "d249c593",
   "metadata": {},
   "source": [
    "#\n",
    "\n",
    "#\n",
    "\n",
    "### One-Way ANOVA"
   ]
  },
  {
   "cell_type": "code",
   "execution_count": 1,
   "id": "b63fdaf6",
   "metadata": {},
   "outputs": [],
   "source": [
    "# Example : ANOVA Test for fertilizers effectiveness.\n",
    "\n",
    "# Scenario : 30 plants each are tested on 3 fertilizers A,B and C. Heights of plants are measured after a certain period.\n",
    "\n",
    "# (Null Hypothesis) Ho : There is no significant difference in plant growth among the three type of fertilizers.\n",
    "\n",
    "# (Alternate Hypothesis) Ha : Atleast one fertilizer type significantly affects plant growth.\n",
    "\n"
   ]
  },
  {
   "cell_type": "code",
   "execution_count": 1,
   "id": "36c7d7bd",
   "metadata": {},
   "outputs": [],
   "source": [
    "import numpy as np\n",
    "from scipy.stats import f_oneway"
   ]
  },
  {
   "cell_type": "code",
   "execution_count": 15,
   "id": "cc45440c",
   "metadata": {},
   "outputs": [
    {
     "name": "stdout",
     "output_type": "stream",
     "text": [
      "mean height of plants (fertilizer A) =  16.14\n",
      "\n",
      "mean height of plants (fertilizer B) =  14.186666666666667\n",
      "\n",
      "mean height of plants (fertilizer C) =  17.923333333333332\n"
     ]
    }
   ],
   "source": [
    "# Heights of plants for each fertilizer group.\n",
    "\n",
    "fertilizer_a = np.array([15.2, 16.5, 14.8, 17.3, 15.9, 16.1, 17.8, 15.6, 16.4, 14.7, \n",
    "                         16.8, 16.2, 16.7, 15.5, 16.6, 16.0, 15.9, 15.3, 16.5, 16.9,\n",
    "                         15.7, 16.3, 15.8, 17.1, 15.4, 16.5, 16.2, 17.0, 15.1, 16.4])\n",
    "\n",
    "fertilizer_b = np.array([14.3, 13.8, 13.5, 14.7, 13.9, 14.5, 14.0, 14.9, 13.7, 14.4, \n",
    "                         14.2, 14.6, 14.1, 13.6, 14.3, 14.8, 14.2, 14.5, 14.7, 13.9,\n",
    "                         14.4, 13.8, 14.6, 14.1, 13.5, 14.1, 13.7, 14.0, 14.3, 14.5])\n",
    "\n",
    "fertilizer_c = np.array([17.5, 18.3, 17.0, 18.6, 17.9, 17.2, 18.1, 17.7, 18.0, 17.3, \n",
    "                         17.8, 18.2, 17.4, 18.5, 17.6, 18.4, 18.1, 17.1, 18.2, 18.3,\n",
    "                         17.8, 18.0, 17.9, 18.1, 17.7, 18.2, 18.6, 17.5, 18.3, 18.4])\n",
    "\n",
    "print (\"mean height of plants (fertilizer A) = \", fertilizer_a.mean())\n",
    "print (\"\\nmean height of plants (fertilizer B) = \", fertilizer_b.mean())xx\n",
    "print (\"\\nmean height of plants (fertilizer C) = \", fertilizer_c.mean())"
   ]
  },
  {
   "cell_type": "code",
   "execution_count": 11,
   "id": "087d1dea",
   "metadata": {},
   "outputs": [
    {
     "name": "stdout",
     "output_type": "stream",
     "text": [
      "Reject the null hypothesis : There is a significant difference in the plant growth among the fertilizers.\n"
     ]
    }
   ],
   "source": [
    "# performing one-way ANOVA\n",
    "\n",
    "f_statistic , p_value = f_oneway(fertilizer_a, fertilizer_b, fertilizer_c)\n",
    "\n",
    "# Interpretting the results :-\n",
    "\n",
    "alpha = 0.05\n",
    "\n",
    "if p_value < 0.05 :\n",
    "    \n",
    "    print(\"Reject the null hypothesis : There is a significant difference in the plant growth among the fertilizers.\")\n",
    "    \n",
    "else : \n",
    "    \n",
    "    print(\"Failed to reject the null hypothesis. There is no significant difference in the plant growth among any fertilizers \")"
   ]
  },
  {
   "cell_type": "code",
   "execution_count": 12,
   "id": "fbf0e4e3",
   "metadata": {},
   "outputs": [
    {
     "name": "stdout",
     "output_type": "stream",
     "text": [
      "p value =  3.9273100346569484e-42\n"
     ]
    }
   ],
   "source": [
    "print(\"p value = \",p_value)"
   ]
  },
  {
   "cell_type": "markdown",
   "id": "a27da5c8",
   "metadata": {},
   "source": [
    "### \n",
    "###\n",
    "###\n",
    "### Two-way ANOVA"
   ]
  },
  {
   "cell_type": "code",
   "execution_count": 5,
   "id": "137287a6",
   "metadata": {},
   "outputs": [
    {
     "data": {
      "text/html": [
       "<div>\n",
       "<style scoped>\n",
       "    .dataframe tbody tr th:only-of-type {\n",
       "        vertical-align: middle;\n",
       "    }\n",
       "\n",
       "    .dataframe tbody tr th {\n",
       "        vertical-align: top;\n",
       "    }\n",
       "\n",
       "    .dataframe thead th {\n",
       "        text-align: right;\n",
       "    }\n",
       "</style>\n",
       "<table border=\"1\" class=\"dataframe\">\n",
       "  <thead>\n",
       "    <tr style=\"text-align: right;\">\n",
       "      <th></th>\n",
       "      <th>Diet</th>\n",
       "      <th>Exercise</th>\n",
       "      <th>Weight_loss</th>\n",
       "    </tr>\n",
       "  </thead>\n",
       "  <tbody>\n",
       "    <tr>\n",
       "      <th>0</th>\n",
       "      <td>low carb</td>\n",
       "      <td>sedentary</td>\n",
       "      <td>2.3</td>\n",
       "    </tr>\n",
       "    <tr>\n",
       "      <th>1</th>\n",
       "      <td>low carb</td>\n",
       "      <td>moderate</td>\n",
       "      <td>3.1</td>\n",
       "    </tr>\n",
       "    <tr>\n",
       "      <th>2</th>\n",
       "      <td>low carb</td>\n",
       "      <td>active</td>\n",
       "      <td>4.2</td>\n",
       "    </tr>\n",
       "    <tr>\n",
       "      <th>3</th>\n",
       "      <td>balanced</td>\n",
       "      <td>sedentary</td>\n",
       "      <td>1.5</td>\n",
       "    </tr>\n",
       "    <tr>\n",
       "      <th>4</th>\n",
       "      <td>balanced</td>\n",
       "      <td>moderate</td>\n",
       "      <td>2.0</td>\n",
       "    </tr>\n",
       "    <tr>\n",
       "      <th>5</th>\n",
       "      <td>balanced</td>\n",
       "      <td>active</td>\n",
       "      <td>2.8</td>\n",
       "    </tr>\n",
       "    <tr>\n",
       "      <th>6</th>\n",
       "      <td>low fat</td>\n",
       "      <td>sedentary</td>\n",
       "      <td>1.0</td>\n",
       "    </tr>\n",
       "    <tr>\n",
       "      <th>7</th>\n",
       "      <td>low fat</td>\n",
       "      <td>moderate</td>\n",
       "      <td>1.2</td>\n",
       "    </tr>\n",
       "    <tr>\n",
       "      <th>8</th>\n",
       "      <td>low fat</td>\n",
       "      <td>active</td>\n",
       "      <td>1.5</td>\n",
       "    </tr>\n",
       "  </tbody>\n",
       "</table>\n",
       "</div>"
      ],
      "text/plain": [
       "       Diet   Exercise  Weight_loss\n",
       "0  low carb  sedentary          2.3\n",
       "1  low carb   moderate          3.1\n",
       "2  low carb     active          4.2\n",
       "3  balanced  sedentary          1.5\n",
       "4  balanced   moderate          2.0\n",
       "5  balanced     active          2.8\n",
       "6   low fat  sedentary          1.0\n",
       "7   low fat   moderate          1.2\n",
       "8   low fat     active          1.5"
      ]
     },
     "execution_count": 5,
     "metadata": {},
     "output_type": "execute_result"
    }
   ],
   "source": [
    "import pandas as pd\n",
    "\n",
    "data = {'Diet' : ['low carb','low carb', 'low carb', 'balanced', 'balanced', 'balanced', 'low fat','low fat','low fat'],\n",
    "        'Exercise' : ['sedentary','moderate','active','sedentary','moderate','active','sedentary','moderate','active'],\n",
    "        'Weight_loss' : [2.3,3.1,4.2,1.5,2.0,2.8,1,1.2,1.5]}\n",
    "\n",
    "df=pd.DataFrame(data)\n",
    "\n",
    "df"
   ]
  },
  {
   "cell_type": "code",
   "execution_count": 6,
   "id": "c1bb1da5",
   "metadata": {},
   "outputs": [
    {
     "name": "stdout",
     "output_type": "stream",
     "text": [
      "           df    sum_sq   mean_sq          F    PR(>F)\n",
      "Diet      2.0  5.828889  2.914444  23.419643  0.006190\n",
      "Exercise  2.0  2.308889  1.154444   9.276786  0.031455\n",
      "Residual  4.0  0.497778  0.124444        NaN       NaN\n"
     ]
    }
   ],
   "source": [
    "import statsmodels.api as sm\n",
    "from statsmodels.formula.api import ols                                       # ols = ordinary least square method\n",
    "\n",
    "# Fit Two-way ANOVA\n",
    "\n",
    "model = ols('Weight_loss~Diet + Exercise',data=df).fit()\n",
    "anova_table = sm.stats.anova_lm(model)                                        # lm = linear model\n",
    "print(anova_table)"
   ]
  },
  {
   "cell_type": "code",
   "execution_count": 7,
   "id": "59dec4f8",
   "metadata": {},
   "outputs": [],
   "source": [
    "# Conclusion\n",
    "\n",
    "# For Diet : p value = 0.006 < 0.05 , thus we reject the null hypothesis, which means weight loss is affected by diet.\n",
    "\n",
    "# For Exercise : p value = 0.03 < 0.05 , thus we reject the null hypothesis, which means weight loss is affected by exercise.\n",
    "\n",
    "# considering both the factors, Diet and Exercise : p value = (0.006+0.03) = 0.036 < 0.05 , \n",
    "# thus we reject the null hypothesis, which means weight loss is affected by both the factors, diet and exercise."
   ]
  },
  {
   "cell_type": "markdown",
   "id": "333c93eb",
   "metadata": {},
   "source": [
    "### \n",
    "###\n",
    "###\n",
    "### Nested ANOVA"
   ]
  },
  {
   "cell_type": "code",
   "execution_count": 8,
   "id": "7c4fa118",
   "metadata": {},
   "outputs": [
    {
     "data": {
      "text/html": [
       "<div>\n",
       "<style scoped>\n",
       "    .dataframe tbody tr th:only-of-type {\n",
       "        vertical-align: middle;\n",
       "    }\n",
       "\n",
       "    .dataframe tbody tr th {\n",
       "        vertical-align: top;\n",
       "    }\n",
       "\n",
       "    .dataframe thead th {\n",
       "        text-align: right;\n",
       "    }\n",
       "</style>\n",
       "<table border=\"1\" class=\"dataframe\">\n",
       "  <thead>\n",
       "    <tr style=\"text-align: right;\">\n",
       "      <th></th>\n",
       "      <th>School</th>\n",
       "      <th>Instructor</th>\n",
       "      <th>Exam_score</th>\n",
       "    </tr>\n",
       "  </thead>\n",
       "  <tbody>\n",
       "    <tr>\n",
       "      <th>0</th>\n",
       "      <td>A</td>\n",
       "      <td>X</td>\n",
       "      <td>85</td>\n",
       "    </tr>\n",
       "    <tr>\n",
       "      <th>1</th>\n",
       "      <td>A</td>\n",
       "      <td>Y</td>\n",
       "      <td>88</td>\n",
       "    </tr>\n",
       "    <tr>\n",
       "      <th>2</th>\n",
       "      <td>B</td>\n",
       "      <td>X</td>\n",
       "      <td>82</td>\n",
       "    </tr>\n",
       "    <tr>\n",
       "      <th>3</th>\n",
       "      <td>B</td>\n",
       "      <td>Y</td>\n",
       "      <td>89</td>\n",
       "    </tr>\n",
       "    <tr>\n",
       "      <th>4</th>\n",
       "      <td>B</td>\n",
       "      <td>Z</td>\n",
       "      <td>86</td>\n",
       "    </tr>\n",
       "    <tr>\n",
       "      <th>5</th>\n",
       "      <td>C</td>\n",
       "      <td>Y</td>\n",
       "      <td>90</td>\n",
       "    </tr>\n",
       "    <tr>\n",
       "      <th>6</th>\n",
       "      <td>C</td>\n",
       "      <td>Z</td>\n",
       "      <td>91</td>\n",
       "    </tr>\n",
       "    <tr>\n",
       "      <th>7</th>\n",
       "      <td>C</td>\n",
       "      <td>X</td>\n",
       "      <td>85</td>\n",
       "    </tr>\n",
       "    <tr>\n",
       "      <th>8</th>\n",
       "      <td>C</td>\n",
       "      <td>Z</td>\n",
       "      <td>88</td>\n",
       "    </tr>\n",
       "  </tbody>\n",
       "</table>\n",
       "</div>"
      ],
      "text/plain": [
       "  School Instructor  Exam_score\n",
       "0      A          X          85\n",
       "1      A          Y          88\n",
       "2      B          X          82\n",
       "3      B          Y          89\n",
       "4      B          Z          86\n",
       "5      C          Y          90\n",
       "6      C          Z          91\n",
       "7      C          X          85\n",
       "8      C          Z          88"
      ]
     },
     "execution_count": 8,
     "metadata": {},
     "output_type": "execute_result"
    }
   ],
   "source": [
    "import pandas as pd\n",
    "import statsmodels.api as sm\n",
    "from statsmodels.formula.api import ols\n",
    "\n",
    "# creating df\n",
    "\n",
    "data = {'School' : ['A','A','B','B','B','C','C','C','C'],\n",
    "        'Instructor' : ['X','Y','X','Y','Z','Y','Z','X','Z'],\n",
    "        'Exam_score' : [85,88,82,89,86,90,91,85,88]}\n",
    "\n",
    "df = pd.DataFrame(data)\n",
    "df"
   ]
  },
  {
   "cell_type": "code",
   "execution_count": 9,
   "id": "4bf540fe",
   "metadata": {},
   "outputs": [
    {
     "name": "stdout",
     "output_type": "stream",
     "text": [
      "                    df     sum_sq    mean_sq         F    PR(>F)\n",
      "School             2.0  14.722222   7.361111  1.635802  0.483843\n",
      "Instructor         2.0  40.766667  20.383333  4.529630  0.315295\n",
      "School:Instructor  4.0   9.400000   2.350000  0.522222  0.761372\n",
      "Residual           1.0   4.500000   4.500000       NaN       NaN\n"
     ]
    }
   ],
   "source": [
    "# Fit Nested ANOVA model\n",
    "\n",
    "model = ols('Exam_score ~ School + Instructor + School:Instructor',data=df).fit()\n",
    "\n",
    "anova_table = sm.stats.anova_lm(model)\n",
    "print(anova_table)"
   ]
  },
  {
   "cell_type": "code",
   "execution_count": null,
   "id": "1980ba5a",
   "metadata": {},
   "outputs": [],
   "source": [
    "# Conclusion\n",
    "\n",
    "# For School : p value = 0.48 > 0.05 ,thus we failed to reject the null hypothesis, \n",
    "                                      # which means exam scores are not affected by school.\n",
    "    \n",
    "    \n",
    "# For Instructor : p value = 0.31 > 0.05 , thus we failed to reject the null hypothesis,\n",
    "                                           # which means exam scores are not affected by instructors.\n",
    "    \n",
    "    \n",
    "# For School and Instructor : p value = 0.76 > 0.05 , thus we failed to reject the null hypothesis,\n",
    "                                                  # which means exam scores are not affected by school as well as instructor."
   ]
  }
 ],
 "metadata": {
  "kernelspec": {
   "display_name": "Python 3 (ipykernel)",
   "language": "python",
   "name": "python3"
  },
  "language_info": {
   "codemirror_mode": {
    "name": "ipython",
    "version": 3
   },
   "file_extension": ".py",
   "mimetype": "text/x-python",
   "name": "python",
   "nbconvert_exporter": "python",
   "pygments_lexer": "ipython3",
   "version": "3.11.5"
  }
 },
 "nbformat": 4,
 "nbformat_minor": 5
}
